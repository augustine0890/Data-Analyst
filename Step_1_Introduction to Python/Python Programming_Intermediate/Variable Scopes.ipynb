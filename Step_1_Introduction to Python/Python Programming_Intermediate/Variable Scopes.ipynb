{
 "cells": [
  {
   "cell_type": "markdown",
   "metadata": {},
   "source": [
    "__The difference between global and local variables__\n",
    "- Global variables are accessible inside and outside of functions. Local variables are only accessible inside the function. In the example below, the function can access both the global and the local variable. However, trying to access the local variable outside the function produces an error."
   ]
  },
  {
   "cell_type": "code",
   "execution_count": 1,
   "metadata": {},
   "outputs": [],
   "source": [
    "global_var = 'foo'\n",
    "\n",
    "def ex1():\n",
    "    local_var = 'bar'\n",
    "    print(global_var)\n",
    "    print(local_var)"
   ]
  },
  {
   "cell_type": "code",
   "execution_count": 2,
   "metadata": {},
   "outputs": [
    {
     "name": "stdout",
     "output_type": "stream",
     "text": [
      "foo\n",
      "bar\n"
     ]
    }
   ],
   "source": [
    "ex1()"
   ]
  },
  {
   "cell_type": "code",
   "execution_count": 3,
   "metadata": {},
   "outputs": [
    {
     "name": "stdout",
     "output_type": "stream",
     "text": [
      "foo\n"
     ]
    }
   ],
   "source": [
    "print(global_var)"
   ]
  },
  {
   "cell_type": "markdown",
   "metadata": {},
   "source": [
    "- This gives an error\n",
    "```python\n",
    "print(local_var)\n",
    "```"
   ]
  },
  {
   "cell_type": "markdown",
   "metadata": {},
   "source": [
    "__How *not* to set a global variable__\n",
    "- Setting a global variable from within a function is not as simple. If I set a variable in a function with the same name as a global variable, I am actually creating a new local variable. In the example below, var remains `foo` even after the function is called."
   ]
  },
  {
   "cell_type": "code",
   "execution_count": 4,
   "metadata": {},
   "outputs": [],
   "source": [
    "var = 'foo'\n",
    "def ex2():\n",
    "    var = 'bar'\n",
    "    print('inside the function var is:', var)"
   ]
  },
  {
   "cell_type": "code",
   "execution_count": 5,
   "metadata": {},
   "outputs": [
    {
     "name": "stdout",
     "output_type": "stream",
     "text": [
      "inside the function var is: bar\n",
      "outside the function var is: foo\n"
     ]
    }
   ],
   "source": [
    "ex2()\n",
    "print('outside the function var is:', var)"
   ]
  },
  {
   "cell_type": "markdown",
   "metadata": {},
   "source": [
    "__How to set a global variable__\n",
    "- To set the global variable inside a function, I need to use the `global` statement. This declares the inner variable to have module scope. Now var remains `bar` after the function is called."
   ]
  },
  {
   "cell_type": "code",
   "execution_count": 6,
   "metadata": {},
   "outputs": [],
   "source": [
    "var = 'foo'\n",
    "def ex3():\n",
    "    global var\n",
    "    var = 'bar'\n",
    "    print('inside the function var is:', var)"
   ]
  },
  {
   "cell_type": "code",
   "execution_count": 7,
   "metadata": {},
   "outputs": [
    {
     "name": "stdout",
     "output_type": "stream",
     "text": [
      "inside the function var is: bar\n",
      "outside the function var is: bar\n"
     ]
    }
   ],
   "source": [
    "ex3()\n",
    "print('outside the function var is:', var)"
   ]
  },
  {
   "cell_type": "markdown",
   "metadata": {},
   "source": [
    "__A workaround until Python 3000 arrives__\n",
    "- A workaround is to create an empty class to use as an additional namespace. Now the variable in the outer function can be set to `bar`."
   ]
  },
  {
   "cell_type": "code",
   "execution_count": 8,
   "metadata": {},
   "outputs": [
    {
     "name": "stdout",
     "output_type": "stream",
     "text": [
      "inside inner, ns.var is: bar\n",
      "inside outer function, ns.var is: bar\n"
     ]
    }
   ],
   "source": [
    "class Namespace: pass\n",
    "def ex4():\n",
    "    ns = Namespace()\n",
    "    ns.var = 'foo'\n",
    "    def inner():\n",
    "        ns.var = 'bar'\n",
    "        print('inside inner, ns.var is:', ns.var)\n",
    "    inner()\n",
    "    print('inside outer function, ns.var is:', ns.var)\n",
    "ex4()"
   ]
  },
  {
   "cell_type": "code",
   "execution_count": 9,
   "metadata": {},
   "outputs": [],
   "source": [
    "def ex5():\n",
    "    ex5.var = 'foo'\n",
    "    def inner():\n",
    "        ex5.var = 'bar'\n",
    "        print('inside inner, ex5.var is:', ex5.var)\n",
    "    inner()\n",
    "    print('inside outer function, ex5.var is:', ex5.var)"
   ]
  },
  {
   "cell_type": "code",
   "execution_count": 10,
   "metadata": {},
   "outputs": [
    {
     "name": "stdout",
     "output_type": "stream",
     "text": [
      "inside inner, ex5.var is: bar\n",
      "inside outer function, ex5.var is: bar\n"
     ]
    }
   ],
   "source": [
    "ex5()"
   ]
  },
  {
   "cell_type": "code",
   "execution_count": null,
   "metadata": {},
   "outputs": [],
   "source": []
  }
 ],
 "metadata": {
  "kernelspec": {
   "display_name": "Python 3",
   "language": "python",
   "name": "python3"
  },
  "language_info": {
   "codemirror_mode": {
    "name": "ipython",
    "version": 3
   },
   "file_extension": ".py",
   "mimetype": "text/x-python",
   "name": "python",
   "nbconvert_exporter": "python",
   "pygments_lexer": "ipython3",
   "version": "3.6.3"
  }
 },
 "nbformat": 4,
 "nbformat_minor": 2
}
