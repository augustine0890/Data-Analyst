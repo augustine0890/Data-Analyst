{
 "cells": [
  {
   "cell_type": "markdown",
   "metadata": {},
   "source": [
    "### Handling Exceptions in Python\n",
    "- In software development, different types of errors can occur. They could be syntax errors, logical errors, or runtime errors. \n",
    "- Syntax errors most probably occur during the initial development phase and are a result of incorrect syntax. Syntax errors can be caught easily when the program is compiled for execution.\n",
    "- Logical errors, on the other hand, are a result of improper logical implementation. An example would be a program accessing a unsorted list assuming it to be sorted. Logical errors are the most difficult ones to track.\n",
    "- Runtime errors are the most interesting errors which occur, if we don't consider all the corner cases. An example would be trying to access a non-existent file. "
   ]
  },
  {
   "cell_type": "markdown",
   "metadata": {},
   "source": [
    "Let's start with a simple program to add two numbers in Python. Our program takes in two parameters as input and prints the sum. Here is a Python program to add two numbers:"
   ]
  },
  {
   "cell_type": "code",
   "execution_count": 1,
   "metadata": {},
   "outputs": [],
   "source": [
    "def addNumbers(a,b):\n",
    "    print(a + b)"
   ]
  },
  {
   "cell_type": "code",
   "execution_count": 2,
   "metadata": {},
   "outputs": [
    {
     "name": "stdout",
     "output_type": "stream",
     "text": [
      "12\n"
     ]
    }
   ],
   "source": [
    "addNumbers(4, 8)"
   ]
  },
  {
   "cell_type": "markdown",
   "metadata": {},
   "source": [
    "While writing the above program, we didn't really consider the fact that anything can go wrong. What if one of the parameters passed is not a number?\n",
    "```python\n",
    "addNumbers('', 8)\n",
    "\n",
    "TypeError              Traceback (most recent call last)\n",
    "<ipython-input-4-88534481d53e> in <module>()\n",
    "----> 1 addNumbers('', 8)\n",
    "\n",
    "<ipython-input-2-f46c63e60050> in addNumbers(a, b)\n",
    "      1 def addNumbers(a,b):\n",
    "----> 2     print(a + b)\n",
    "\n",
    "TypeError: must be str, not int\n",
    "```"
   ]
  },
  {
   "cell_type": "markdown",
   "metadata": {},
   "source": [
    "__Handling Exceptions Using Try and Except__\n",
    "- In Python, we use the `try` and `except` statements to handle exceptions. Whenever the code breaks down, an exception is thrown without crashing the program. Let's modify the add number program to include the `try` and `except` statments."
   ]
  },
  {
   "cell_type": "code",
   "execution_count": 3,
   "metadata": {},
   "outputs": [],
   "source": [
    "def addNumbers(a, b):\n",
    "    try:\n",
    "        return a + b\n",
    "    except Exception as e:\n",
    "        return 'Error occurred: ' + str(e)"
   ]
  },
  {
   "cell_type": "code",
   "execution_count": 4,
   "metadata": {},
   "outputs": [
    {
     "data": {
      "text/plain": [
       "'Error occurred: must be str, not int'"
      ]
     },
     "execution_count": 4,
     "metadata": {},
     "output_type": "execute_result"
    }
   ],
   "source": [
    "addNumbers('', 8)"
   ]
  },
  {
   "cell_type": "markdown",
   "metadata": {},
   "source": [
    "Python would process all code inside the try and except statement. When it encounters an error, the control is passed to the except block, skipping the code in between."
   ]
  },
  {
   "cell_type": "markdown",
   "metadata": {},
   "source": [
    "- As seen in the above code, we have moved our code inside a `try` and `except` statement. Try running the program and it should throw an error message instead of crashing the program. The reason for the exception is also returned as an exception message. \n",
    "- The above method handles unexpected exceptions. Let's have a look at how to handle an expected exception. Assume that we are trying to read a particular file using our Python program, but the file doesn't exist. In this case, we'll handle the exception and let the user know that the file doesn't exist when it happens. Have a look at the file reading code:"
   ]
  },
  {
   "cell_type": "code",
   "execution_count": 5,
   "metadata": {},
   "outputs": [
    {
     "name": "stdout",
     "output_type": "stream",
     "text": [
      "[Errno 2] No such file or directory: 'fname'\n"
     ]
    }
   ],
   "source": [
    "try:\n",
    "    try:\n",
    "        with open('fname') as f:\n",
    "            content = f.readlines()\n",
    "    except IOError as e:\n",
    "        print(str(e))\n",
    "except Exception as e:\n",
    "    print(str(e))"
   ]
  },
  {
   "cell_type": "markdown",
   "metadata": {},
   "source": [
    "<p style='text-align: justify;'>In the above code, we have handled the file reading inside an `IOError` exception handler. If the code breaks down due to unavailability of the file `fname`, the error would be handled inside the `IOError` handler. Similar to the `IOError` exceptions, there are a lot more standard exceptions like `Arithmetic`, `OverflowError`, and `ImportError`, to name a few."
   ]
  },
  {
   "cell_type": "markdown",
   "metadata": {},
   "source": [
    "__Multiple Exceptions__\n",
    "- We can handle multiple exceptions at a time by clubbing the standard exceptions as shown:"
   ]
  },
  {
   "cell_type": "code",
   "execution_count": 6,
   "metadata": {},
   "outputs": [
    {
     "name": "stdout",
     "output_type": "stream",
     "text": [
      "[Errno 2] No such file or directory: 'fname'\n"
     ]
    }
   ],
   "source": [
    "try:\n",
    "    with open('fname') as f:\n",
    "        content = f.readlines()\n",
    "    print(b)\n",
    "except (IOError, NameError) as e:\n",
    "    print(str(e))"
   ]
  },
  {
   "cell_type": "markdown",
   "metadata": {},
   "source": [
    "The above code would raise both the IOError and NameError exceptions when the program is executed."
   ]
  },
  {
   "cell_type": "markdown",
   "metadata": {},
   "source": [
    "`finally` __Clause__\n",
    "- Assume that we are using certain resources in our Python program. During the execution of the program, it encountered an error and only got executed halfway. In this case, the resource would be unnecessarily held up. We can clean up such resources using the `finally` clause. Take a look at the below code:"
   ]
  },
  {
   "cell_type": "code",
   "execution_count": 7,
   "metadata": {},
   "outputs": [
    {
     "name": "stdout",
     "output_type": "stream",
     "text": [
      "[Errno 2] No such file or directory: 'fname'\n"
     ]
    }
   ],
   "source": [
    "try:\n",
    "    filePointer = open('fname','r')\n",
    "    try:\n",
    "        content = filePointer.readline()\n",
    "    finally:\n",
    "        filePointer.close()\n",
    "except IOError as e:\n",
    "    print(str(e))"
   ]
  },
  {
   "cell_type": "markdown",
   "metadata": {},
   "source": [
    "If, during the execution of the above code, an exception is raised while reading the file, the `filePointer` would be closed in the `finally` block."
   ]
  },
  {
   "cell_type": "code",
   "execution_count": null,
   "metadata": {},
   "outputs": [],
   "source": []
  }
 ],
 "metadata": {
  "kernelspec": {
   "display_name": "Python 3",
   "language": "python",
   "name": "python3"
  },
  "language_info": {
   "codemirror_mode": {
    "name": "ipython",
    "version": 3
   },
   "file_extension": ".py",
   "mimetype": "text/x-python",
   "name": "python",
   "nbconvert_exporter": "python",
   "pygments_lexer": "ipython3",
   "version": "3.6.3"
  }
 },
 "nbformat": 4,
 "nbformat_minor": 2
}
